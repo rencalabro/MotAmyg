{
 "cells": [
  {
   "cell_type": "markdown",
   "metadata": {},
   "source": [
    "# Full model at time of cue"
   ]
  },
  {
   "cell_type": "code",
   "execution_count": null,
   "metadata": {},
   "outputs": [],
   "source": [
    "import hddm"
   ]
  },
  {
   "cell_type": "code",
   "execution_count": null,
   "metadata": {},
   "outputs": [],
   "source": [
    "import pandas as pd\n",
    "import matplotlib.pyplot as plt\n",
    "import hddm\n",
    "import numpy as np\n",
    "import patsy \n",
    "import pymc as pm\n",
    "import pymc.progressbar as pbar\n",
    "\n",
    "samples = 20000\n",
    "\n",
    "data = hddm.load_csv('../../1_data/DDM_Data_Amygdala.csv')"
   ]
  },
  {
   "cell_type": "code",
   "execution_count": null,
   "metadata": {
    "scrolled": true
   },
   "outputs": [],
   "source": [
    "# z & v model, exports full_model\n",
    "v_reg_full = {'model': 'v ~ 1 + condition*amygdala_pe + stim', 'link_func': lambda x: x}\n",
    "z_reg_full = {'model': 'z ~ 1 + condition*amygdala_pe', 'link_func': lambda x: x}\n",
    "\n",
    "reg_descr_full = [v_reg_full, z_reg_full]\n",
    "\n",
    "cue_full_model = hddm.models.HDDMRegressor(data, reg_descr_full,\n",
    "                                       bias=True, p_outlier=0.05,\n",
    "                                       group_only_regressors=False)\n",
    "\n",
    "cue_full_model.sample(samples, burn=samples/10, thin=2)"
   ]
  },
  {
   "cell_type": "code",
   "execution_count": null,
   "metadata": {},
   "outputs": [],
   "source": [
    "# Save all parameters\n",
    "a, t = full_model.nodes_db.node[['a', 't']]\n",
    "z_Intercept, z_cond_amyg, z_amyg_pe, z_cond = full_model.nodes_db.node[['z_Intercept','z_condition:amygdala_pe','z_amygdala_pe','z_condition']]\n",
    "v_Intercept, v_cond_amyg, v_amyg_pe, v_cond, v_stim = full_model.nodes_db.node[['v_Intercept','v_condition:amygdala_pe','v_amygdala_pe','v_condition','v_stim']]\n",
    "cue_allParms = a.trace()\n",
    "cue_allParms = np.column_stack([cue_allParms,t.trace()])\n",
    "cue_allParms = np.column_stack([cue_allParms,z_Intercept.trace(),z_cond_amyg.trace(),z_amyg_pe.trace(),z_cond.trace()]);\n",
    "cue_allParms = np.column_stack([cue_allParms,v_Intercept.trace(),v_cond_amyg.trace(),v_amyg_pe.trace(),v_cond.trace(),v_stim.trace()])\n",
    "np.savetxt(\"../../3_results/4_ddm/model_outputs/trace/cue_full_model_trace.csv\", cue_allParms , delimiter=\",\")"
   ]
  }
 ],
 "metadata": {
  "kernelspec": {
   "display_name": "Python 3",
   "language": "python",
   "name": "python3"
  },
  "language_info": {
   "codemirror_mode": {
    "name": "ipython",
    "version": 3
   },
   "file_extension": ".py",
   "mimetype": "text/x-python",
   "name": "python",
   "nbconvert_exporter": "python",
   "pygments_lexer": "ipython3",
   "version": "3.8.3"
  }
 },
 "nbformat": 4,
 "nbformat_minor": 5
}
